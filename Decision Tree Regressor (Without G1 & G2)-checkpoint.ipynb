{
 "cells": [
  {
   "cell_type": "code",
   "execution_count": 1,
   "metadata": {},
   "outputs": [],
   "source": [
    "#imports\n",
    "import pandas as pd  \n",
    "import numpy as np  \n",
    "import matplotlib.pyplot as plt  \n",
    "\n",
    "from sklearn.model_selection import cross_val_score, cross_validate\n",
    "from sklearn.model_selection import train_test_split\n",
    "from sklearn import tree\n",
    "\n",
    "from sklearn.tree import export_graphviz \n",
    "from sklearn.metrics import mean_squared_error\n",
    "from sklearn.model_selection import GridSearchCV\n",
    "\n",
    "# output of plotting commands is displayed inline, directly below the code cell that produced it\n",
    "%matplotlib inline "
   ]
  },
  {
   "cell_type": "code",
   "execution_count": 2,
   "metadata": {},
   "outputs": [],
   "source": [
    "df = pd.read_csv(\"Math(1).csv\")"
   ]
  },
  {
   "cell_type": "code",
   "execution_count": 3,
   "metadata": {},
   "outputs": [],
   "source": [
    "df_new = df.copy()"
   ]
  },
  {
   "cell_type": "code",
   "execution_count": 4,
   "metadata": {},
   "outputs": [
    {
     "data": {
      "text/html": [
       "<div>\n",
       "<style scoped>\n",
       "    .dataframe tbody tr th:only-of-type {\n",
       "        vertical-align: middle;\n",
       "    }\n",
       "\n",
       "    .dataframe tbody tr th {\n",
       "        vertical-align: top;\n",
       "    }\n",
       "\n",
       "    .dataframe thead th {\n",
       "        text-align: right;\n",
       "    }\n",
       "</style>\n",
       "<table border=\"1\" class=\"dataframe\">\n",
       "  <thead>\n",
       "    <tr style=\"text-align: right;\">\n",
       "      <th></th>\n",
       "      <th>school</th>\n",
       "      <th>sex</th>\n",
       "      <th>age</th>\n",
       "      <th>address</th>\n",
       "      <th>famsize</th>\n",
       "      <th>Pstatus</th>\n",
       "      <th>Medu</th>\n",
       "      <th>Fedu</th>\n",
       "      <th>Mjob</th>\n",
       "      <th>Fjob</th>\n",
       "      <th>...</th>\n",
       "      <th>famrel</th>\n",
       "      <th>freetime</th>\n",
       "      <th>goout</th>\n",
       "      <th>Dalc</th>\n",
       "      <th>Walc</th>\n",
       "      <th>health</th>\n",
       "      <th>absences</th>\n",
       "      <th>G1</th>\n",
       "      <th>G2</th>\n",
       "      <th>G3</th>\n",
       "    </tr>\n",
       "  </thead>\n",
       "  <tbody>\n",
       "    <tr>\n",
       "      <th>0</th>\n",
       "      <td>GP</td>\n",
       "      <td>F</td>\n",
       "      <td>18</td>\n",
       "      <td>U</td>\n",
       "      <td>GT3</td>\n",
       "      <td>A</td>\n",
       "      <td>4</td>\n",
       "      <td>4</td>\n",
       "      <td>at_home</td>\n",
       "      <td>teacher</td>\n",
       "      <td>...</td>\n",
       "      <td>4</td>\n",
       "      <td>3</td>\n",
       "      <td>4</td>\n",
       "      <td>1</td>\n",
       "      <td>1</td>\n",
       "      <td>3</td>\n",
       "      <td>6</td>\n",
       "      <td>5</td>\n",
       "      <td>6</td>\n",
       "      <td>6</td>\n",
       "    </tr>\n",
       "    <tr>\n",
       "      <th>1</th>\n",
       "      <td>GP</td>\n",
       "      <td>F</td>\n",
       "      <td>17</td>\n",
       "      <td>U</td>\n",
       "      <td>GT3</td>\n",
       "      <td>T</td>\n",
       "      <td>1</td>\n",
       "      <td>1</td>\n",
       "      <td>at_home</td>\n",
       "      <td>other</td>\n",
       "      <td>...</td>\n",
       "      <td>5</td>\n",
       "      <td>3</td>\n",
       "      <td>3</td>\n",
       "      <td>1</td>\n",
       "      <td>1</td>\n",
       "      <td>3</td>\n",
       "      <td>4</td>\n",
       "      <td>5</td>\n",
       "      <td>5</td>\n",
       "      <td>6</td>\n",
       "    </tr>\n",
       "    <tr>\n",
       "      <th>2</th>\n",
       "      <td>GP</td>\n",
       "      <td>F</td>\n",
       "      <td>15</td>\n",
       "      <td>U</td>\n",
       "      <td>LE3</td>\n",
       "      <td>T</td>\n",
       "      <td>1</td>\n",
       "      <td>1</td>\n",
       "      <td>at_home</td>\n",
       "      <td>other</td>\n",
       "      <td>...</td>\n",
       "      <td>4</td>\n",
       "      <td>3</td>\n",
       "      <td>2</td>\n",
       "      <td>2</td>\n",
       "      <td>3</td>\n",
       "      <td>3</td>\n",
       "      <td>10</td>\n",
       "      <td>7</td>\n",
       "      <td>8</td>\n",
       "      <td>10</td>\n",
       "    </tr>\n",
       "    <tr>\n",
       "      <th>3</th>\n",
       "      <td>GP</td>\n",
       "      <td>F</td>\n",
       "      <td>15</td>\n",
       "      <td>U</td>\n",
       "      <td>GT3</td>\n",
       "      <td>T</td>\n",
       "      <td>4</td>\n",
       "      <td>2</td>\n",
       "      <td>health</td>\n",
       "      <td>services</td>\n",
       "      <td>...</td>\n",
       "      <td>3</td>\n",
       "      <td>2</td>\n",
       "      <td>2</td>\n",
       "      <td>1</td>\n",
       "      <td>1</td>\n",
       "      <td>5</td>\n",
       "      <td>2</td>\n",
       "      <td>15</td>\n",
       "      <td>14</td>\n",
       "      <td>15</td>\n",
       "    </tr>\n",
       "    <tr>\n",
       "      <th>4</th>\n",
       "      <td>GP</td>\n",
       "      <td>F</td>\n",
       "      <td>16</td>\n",
       "      <td>U</td>\n",
       "      <td>GT3</td>\n",
       "      <td>T</td>\n",
       "      <td>3</td>\n",
       "      <td>3</td>\n",
       "      <td>other</td>\n",
       "      <td>other</td>\n",
       "      <td>...</td>\n",
       "      <td>4</td>\n",
       "      <td>3</td>\n",
       "      <td>2</td>\n",
       "      <td>1</td>\n",
       "      <td>2</td>\n",
       "      <td>5</td>\n",
       "      <td>4</td>\n",
       "      <td>6</td>\n",
       "      <td>10</td>\n",
       "      <td>10</td>\n",
       "    </tr>\n",
       "  </tbody>\n",
       "</table>\n",
       "<p>5 rows × 33 columns</p>\n",
       "</div>"
      ],
      "text/plain": [
       "  school sex  age address famsize Pstatus  Medu  Fedu     Mjob      Fjob  ...  \\\n",
       "0     GP   F   18       U     GT3       A     4     4  at_home   teacher  ...   \n",
       "1     GP   F   17       U     GT3       T     1     1  at_home     other  ...   \n",
       "2     GP   F   15       U     LE3       T     1     1  at_home     other  ...   \n",
       "3     GP   F   15       U     GT3       T     4     2   health  services  ...   \n",
       "4     GP   F   16       U     GT3       T     3     3    other     other  ...   \n",
       "\n",
       "  famrel freetime  goout  Dalc  Walc health absences  G1  G2  G3  \n",
       "0      4        3      4     1     1      3        6   5   6   6  \n",
       "1      5        3      3     1     1      3        4   5   5   6  \n",
       "2      4        3      2     2     3      3       10   7   8  10  \n",
       "3      3        2      2     1     1      5        2  15  14  15  \n",
       "4      4        3      2     1     2      5        4   6  10  10  \n",
       "\n",
       "[5 rows x 33 columns]"
      ]
     },
     "execution_count": 4,
     "metadata": {},
     "output_type": "execute_result"
    }
   ],
   "source": [
    "df_new.head()"
   ]
  },
  {
   "cell_type": "code",
   "execution_count": 5,
   "metadata": {},
   "outputs": [],
   "source": [
    "# Cleaning the dataset\n",
    "df_new['sex'] = df_new['sex'].map({'F':0, 'M':1}).astype(int)\n",
    "df_new['school'] = df_new['school'].map({'GP':1, 'MS':2}).astype(int)\n",
    "df_new['address'] = df_new['address'].map({'R':1, 'U':2}).astype(int)\n",
    "df_new['famsize'] = df_new['famsize'].map({'LE3':1, 'GT3':2}).astype(int)\n",
    "df_new['Pstatus'] = df_new['Pstatus'].map({'A':0, 'T':1}).astype(int)\n",
    "df_new['Mjob'] = df_new['Mjob'].map({'teacher':1, 'health':2, 'services':3, 'at_home':4, 'other':5}).astype(int)\n",
    "df_new['Fjob'] = df_new['Fjob'].map({'teacher':1, 'health':2, 'services':3, 'at_home':4, 'other':5}).astype(int)\n",
    "df_new['reason'] = df_new['reason'].map({'home':1, 'reputation':2, 'course':3, 'other':4}).astype(int)\n",
    "df_new['guardian'] = df_new['guardian'].map({'father':1, 'mother':2, 'other':2}).astype(int)\n",
    "df_new['schoolsup'] = df_new['schoolsup'].map({'yes':1, 'no':2}).astype(int)\n",
    "df_new['famsup'] = df_new['famsup'].map({'yes':1, 'no':2}).astype(int)\n",
    "df_new['paid'] = df_new['paid'].map({'yes':1, 'no':2}).astype(int)\n",
    "df_new['activities'] = df_new['activities'].map({'yes':1, 'no':2}).astype(int)\n",
    "df_new['nursery'] = df_new['nursery'].map({'yes':1, 'no':2}).astype(int)\n",
    "df_new['higher'] = df_new['higher'].map({'yes':1, 'no':2}).astype(int)\n",
    "df_new['internet'] = df_new['internet'].map({'yes':1, 'no':2}).astype(int)\n",
    "df_new['romantic'] = df_new['romantic'].map({'yes':1, 'no':2}).astype(int)"
   ]
  },
  {
   "cell_type": "code",
   "execution_count": 6,
   "metadata": {},
   "outputs": [],
   "source": [
    "# Transform data\n",
    "df_new.loc[df['G3'] <= 9, 'G3'] = 0\n",
    "df_new.loc[(df['G3'] >= 10) & (df['G3']<=11),'G3'] = 1\n",
    "df_new.loc[(df['G3'] >= 12) & (df['G3']<=13),'G3'] = 2\n",
    "df_new.loc[(df['G3'] >= 14) & (df['G3']<=15),'G3'] = 3\n",
    "df_new.loc[df['G3'] > 15, 'G3'] = 4"
   ]
  },
  {
   "cell_type": "code",
   "execution_count": 7,
   "metadata": {},
   "outputs": [
    {
     "name": "stdout",
     "output_type": "stream",
     "text": [
      "X shape is: (395, 30) and type is <class 'numpy.ndarray'>\n",
      "y shape is: (395,) and type is <class 'numpy.ndarray'>\n"
     ]
    }
   ],
   "source": [
    "# Load Data and Split into train & test data\n",
    "dfX = df_new.iloc[:,0:30]\n",
    "dfy = df_new.G3\n",
    "X = dfX.values\n",
    "y = dfy.values\n",
    "print(\"X shape is: {} and type is {}\".format(X.shape,type(X)))\n",
    "print(\"y shape is: {} and type is {}\".format(y.shape,type(y)))"
   ]
  },
  {
   "cell_type": "code",
   "execution_count": 8,
   "metadata": {},
   "outputs": [],
   "source": [
    "# Splitting data into train and test data sets\n",
    "X_train,X_test,y_train,y_test=train_test_split(X, y, test_size=0.2, random_state=2)"
   ]
  },
  {
   "cell_type": "code",
   "execution_count": 9,
   "metadata": {},
   "outputs": [
    {
     "data": {
      "text/plain": [
       "DecisionTreeRegressor(criterion='mse', max_depth=2, max_features=None,\n",
       "           max_leaf_nodes=None, min_impurity_decrease=0.0,\n",
       "           min_impurity_split=None, min_samples_leaf=1,\n",
       "           min_samples_split=2, min_weight_fraction_leaf=0.0,\n",
       "           presort=False, random_state=2, splitter='best')"
      ]
     },
     "execution_count": 9,
     "metadata": {},
     "output_type": "execute_result"
    }
   ],
   "source": [
    "# Create Decision Tree Model\n",
    "tree_reg = tree.DecisionTreeRegressor(max_depth=2, random_state=2)\n",
    "tree_reg.fit(X_train, y_train)"
   ]
  },
  {
   "cell_type": "code",
   "execution_count": 10,
   "metadata": {},
   "outputs": [
    {
     "name": "stdout",
     "output_type": "stream",
     "text": [
      "the training mean squared error is:  1.5346497683803728\n"
     ]
    }
   ],
   "source": [
    "#training mse\n",
    "train_mse = mean_squared_error(tree_reg.predict(X_train), y_train)\n",
    "print('the training mean squared error is: ', train_mse)"
   ]
  },
  {
   "cell_type": "code",
   "execution_count": 11,
   "metadata": {},
   "outputs": [
    {
     "name": "stdout",
     "output_type": "stream",
     "text": [
      "the testing mean squared error is:  1.6070618654533675\n"
     ]
    }
   ],
   "source": [
    "#testing mse\n",
    "test_mse = mean_squared_error(tree_reg.predict(X_test), y_test)\n",
    "print('the testing mean squared error is: ',test_mse)"
   ]
  },
  {
   "cell_type": "code",
   "execution_count": 12,
   "metadata": {},
   "outputs": [
    {
     "name": "stdout",
     "output_type": "stream",
     "text": [
      "training R^2 value is:  0.15819895699702535\n",
      "testing R^2 value is:  0.09853738070335549\n"
     ]
    }
   ],
   "source": [
    "#the score function for regressor is calculating R Squared Value of the regression model\n",
    "# R Squared value rangs from 0 to 1 and the higher the better\n",
    "train_R2 = tree_reg.score(X_train, y_train)\n",
    "print('training R^2 value is: ', train_R2)\n",
    "\n",
    "test_R2 = tree_reg.score(X_test, y_test)\n",
    "print('testing R^2 value is: ', test_R2)"
   ]
  },
  {
   "cell_type": "code",
   "execution_count": 13,
   "metadata": {},
   "outputs": [
    {
     "name": "stdout",
     "output_type": "stream",
     "text": [
      "train_score:  [-1.54432317 -1.53060749 -1.56027548 -1.55199353 -1.53388262 -1.49855767\n",
      " -1.54061944 -1.57704515 -1.5367022  -1.50468982 -1.54251755 -1.55469279\n",
      " -1.55987622 -1.5219821  -1.52814443 -1.54416424 -1.51694911 -1.54933464\n",
      " -1.55860041 -1.53001079]\n",
      "test_score:  [-1.50716968 -1.7871996  -1.22147099 -1.7591524  -1.71068878 -2.42388607\n",
      " -1.57482814 -1.08136043 -1.665731   -2.38043287 -1.58048102 -1.32872927\n",
      " -1.21635774 -1.93435689 -1.80767941 -1.52203484 -2.04891014 -1.41871068\n",
      " -1.22760648 -1.82462674]\n"
     ]
    }
   ],
   "source": [
    "# Evaluate the Model using K-folds Cross validation\n",
    "results  = cross_validate(tree_reg, X, y.ravel(), scoring='neg_mean_squared_error', cv=20, return_train_score = True)\n",
    "print('train_score: ', results['train_score'])\n",
    "print('test_score: ', results['test_score'])"
   ]
  },
  {
   "cell_type": "code",
   "execution_count": 14,
   "metadata": {},
   "outputs": [
    {
     "name": "stdout",
     "output_type": "stream",
     "text": [
      "cross val training mean_squared_error is: 1.539248442712533\n",
      "cross val testing mean_squared_error is: 1.6510706573481801\n"
     ]
    }
   ],
   "source": [
    "print('cross val training mean_squared_error is:', sum(-results['train_score'])/len(results['train_score']))\n",
    "print('cross val testing mean_squared_error is:', sum(-results['test_score'])/len(results['test_score']))"
   ]
  },
  {
   "cell_type": "code",
   "execution_count": 15,
   "metadata": {},
   "outputs": [
    {
     "name": "stderr",
     "output_type": "stream",
     "text": [
      "C:\\Users\\Marcus\\AppData\\Roaming\\Python\\Python37\\site-packages\\sklearn\\model_selection\\_search.py:841: DeprecationWarning: The default of the `iid` parameter will change from True to False in version 0.22 and will be removed in 0.24. This will change numeric results when test-set sizes are unequal.\n",
      "  DeprecationWarning)\n"
     ]
    },
    {
     "name": "stdout",
     "output_type": "stream",
     "text": [
      "-1.707158685133505\n",
      "{'criterion': 'mse', 'max_depth': 2, 'min_samples_leaf': 19, 'min_samples_split': 2}\n"
     ]
    }
   ],
   "source": [
    "# Use GridSearch to find the best combination of model hyperparameters\n",
    "\n",
    "criteriaList = np.arange(2,21)\n",
    "\n",
    "param_grid = { \"criterion\" : [\"mse\", \"mae\"], \"min_samples_leaf\" : criteriaList, \"min_samples_split\" : criteriaList, 'max_depth' : criteriaList}\n",
    "\n",
    "gs = GridSearchCV(tree_reg,param_grid=param_grid, scoring=\"neg_mean_squared_error\",cv=20,n_jobs=-1)\n",
    "gs = gs.fit(X_train, y_train)\n",
    "\n",
    "print(gs.best_score_)\n",
    "print(gs.best_params_)"
   ]
  },
  {
   "cell_type": "code",
   "execution_count": 16,
   "metadata": {},
   "outputs": [
    {
     "data": {
      "text/plain": [
       "DecisionTreeRegressor(criterion='mse', max_depth=2, max_features=None,\n",
       "           max_leaf_nodes=None, min_impurity_decrease=0.0,\n",
       "           min_impurity_split=None, min_samples_leaf=19,\n",
       "           min_samples_split=2, min_weight_fraction_leaf=0.0,\n",
       "           presort=False, random_state=None, splitter='best')"
      ]
     },
     "execution_count": 16,
     "metadata": {},
     "output_type": "execute_result"
    }
   ],
   "source": [
    "# Create the final Decision Tree Regressor using the best hyperparameters\n",
    "tree_reg = tree.DecisionTreeRegressor(criterion = 'mse', max_depth = 2, min_samples_leaf = 19, min_samples_split = 2)\n",
    "tree_reg.fit(X_train,y_train)"
   ]
  },
  {
   "cell_type": "code",
   "execution_count": 17,
   "metadata": {},
   "outputs": [
    {
     "name": "stdout",
     "output_type": "stream",
     "text": [
      "The training mean squared error is:  1.5346497683803728\n",
      "The testing mean squared error is:  1.6070618654533675\n"
     ]
    }
   ],
   "source": [
    "#Evaluate the Model by calculating training mse and testing mse\n",
    "train_mse=mean_squared_error(tree_reg.predict(X_train),y_train)\n",
    "print(\"The training mean squared error is: \",train_mse)\n",
    "test_mse=mean_squared_error(tree_reg.predict(X_test),y_test)\n",
    "print(\"The testing mean squared error is: \",test_mse)"
   ]
  },
  {
   "cell_type": "code",
   "execution_count": 18,
   "metadata": {},
   "outputs": [
    {
     "name": "stdout",
     "output_type": "stream",
     "text": [
      "training R^2 value is:  0.15819895699702535\n",
      "testing R^2 value is:  0.09853738070335549\n"
     ]
    }
   ],
   "source": [
    "#the score function for regressor is calculating R Squared Value of the regression model\n",
    "# R Squared value rangs from 0 to 1 and the higher the better\n",
    "train_R2 = tree_reg.score(X_train, y_train)\n",
    "print('training R^2 value is: ', train_R2)\n",
    "\n",
    "test_R2 = tree_reg.score(X_test, y_test)\n",
    "print('testing R^2 value is: ', test_R2)"
   ]
  },
  {
   "cell_type": "code",
   "execution_count": 19,
   "metadata": {},
   "outputs": [
    {
     "data": {
      "text/html": [
       "<div>\n",
       "<style scoped>\n",
       "    .dataframe tbody tr th:only-of-type {\n",
       "        vertical-align: middle;\n",
       "    }\n",
       "\n",
       "    .dataframe tbody tr th {\n",
       "        vertical-align: top;\n",
       "    }\n",
       "\n",
       "    .dataframe thead th {\n",
       "        text-align: right;\n",
       "    }\n",
       "</style>\n",
       "<table border=\"1\" class=\"dataframe\">\n",
       "  <thead>\n",
       "    <tr style=\"text-align: right;\">\n",
       "      <th></th>\n",
       "      <th>variable</th>\n",
       "      <th>importance</th>\n",
       "    </tr>\n",
       "  </thead>\n",
       "  <tbody>\n",
       "    <tr>\n",
       "      <th>14</th>\n",
       "      <td>failures</td>\n",
       "      <td>0.703117</td>\n",
       "    </tr>\n",
       "    <tr>\n",
       "      <th>15</th>\n",
       "      <td>schoolsup</td>\n",
       "      <td>0.257250</td>\n",
       "    </tr>\n",
       "    <tr>\n",
       "      <th>24</th>\n",
       "      <td>freetime</td>\n",
       "      <td>0.039633</td>\n",
       "    </tr>\n",
       "    <tr>\n",
       "      <th>16</th>\n",
       "      <td>famsup</td>\n",
       "      <td>0.000000</td>\n",
       "    </tr>\n",
       "    <tr>\n",
       "      <th>28</th>\n",
       "      <td>health</td>\n",
       "      <td>0.000000</td>\n",
       "    </tr>\n",
       "    <tr>\n",
       "      <th>27</th>\n",
       "      <td>Walc</td>\n",
       "      <td>0.000000</td>\n",
       "    </tr>\n",
       "    <tr>\n",
       "      <th>26</th>\n",
       "      <td>Dalc</td>\n",
       "      <td>0.000000</td>\n",
       "    </tr>\n",
       "    <tr>\n",
       "      <th>25</th>\n",
       "      <td>goout</td>\n",
       "      <td>0.000000</td>\n",
       "    </tr>\n",
       "    <tr>\n",
       "      <th>23</th>\n",
       "      <td>famrel</td>\n",
       "      <td>0.000000</td>\n",
       "    </tr>\n",
       "    <tr>\n",
       "      <th>22</th>\n",
       "      <td>romantic</td>\n",
       "      <td>0.000000</td>\n",
       "    </tr>\n",
       "    <tr>\n",
       "      <th>21</th>\n",
       "      <td>internet</td>\n",
       "      <td>0.000000</td>\n",
       "    </tr>\n",
       "    <tr>\n",
       "      <th>20</th>\n",
       "      <td>higher</td>\n",
       "      <td>0.000000</td>\n",
       "    </tr>\n",
       "    <tr>\n",
       "      <th>19</th>\n",
       "      <td>nursery</td>\n",
       "      <td>0.000000</td>\n",
       "    </tr>\n",
       "    <tr>\n",
       "      <th>18</th>\n",
       "      <td>activities</td>\n",
       "      <td>0.000000</td>\n",
       "    </tr>\n",
       "    <tr>\n",
       "      <th>17</th>\n",
       "      <td>paid</td>\n",
       "      <td>0.000000</td>\n",
       "    </tr>\n",
       "    <tr>\n",
       "      <th>0</th>\n",
       "      <td>school</td>\n",
       "      <td>0.000000</td>\n",
       "    </tr>\n",
       "    <tr>\n",
       "      <th>1</th>\n",
       "      <td>sex</td>\n",
       "      <td>0.000000</td>\n",
       "    </tr>\n",
       "    <tr>\n",
       "      <th>13</th>\n",
       "      <td>studytime</td>\n",
       "      <td>0.000000</td>\n",
       "    </tr>\n",
       "    <tr>\n",
       "      <th>12</th>\n",
       "      <td>traveltime</td>\n",
       "      <td>0.000000</td>\n",
       "    </tr>\n",
       "    <tr>\n",
       "      <th>11</th>\n",
       "      <td>guardian</td>\n",
       "      <td>0.000000</td>\n",
       "    </tr>\n",
       "    <tr>\n",
       "      <th>10</th>\n",
       "      <td>reason</td>\n",
       "      <td>0.000000</td>\n",
       "    </tr>\n",
       "    <tr>\n",
       "      <th>9</th>\n",
       "      <td>Fjob</td>\n",
       "      <td>0.000000</td>\n",
       "    </tr>\n",
       "    <tr>\n",
       "      <th>8</th>\n",
       "      <td>Mjob</td>\n",
       "      <td>0.000000</td>\n",
       "    </tr>\n",
       "    <tr>\n",
       "      <th>7</th>\n",
       "      <td>Fedu</td>\n",
       "      <td>0.000000</td>\n",
       "    </tr>\n",
       "    <tr>\n",
       "      <th>6</th>\n",
       "      <td>Medu</td>\n",
       "      <td>0.000000</td>\n",
       "    </tr>\n",
       "    <tr>\n",
       "      <th>5</th>\n",
       "      <td>Pstatus</td>\n",
       "      <td>0.000000</td>\n",
       "    </tr>\n",
       "    <tr>\n",
       "      <th>4</th>\n",
       "      <td>famsize</td>\n",
       "      <td>0.000000</td>\n",
       "    </tr>\n",
       "    <tr>\n",
       "      <th>3</th>\n",
       "      <td>address</td>\n",
       "      <td>0.000000</td>\n",
       "    </tr>\n",
       "    <tr>\n",
       "      <th>2</th>\n",
       "      <td>age</td>\n",
       "      <td>0.000000</td>\n",
       "    </tr>\n",
       "    <tr>\n",
       "      <th>29</th>\n",
       "      <td>absences</td>\n",
       "      <td>0.000000</td>\n",
       "    </tr>\n",
       "    <tr>\n",
       "      <th>30</th>\n",
       "      <td>G1</td>\n",
       "      <td>NaN</td>\n",
       "    </tr>\n",
       "    <tr>\n",
       "      <th>31</th>\n",
       "      <td>G2</td>\n",
       "      <td>NaN</td>\n",
       "    </tr>\n",
       "  </tbody>\n",
       "</table>\n",
       "</div>"
      ],
      "text/plain": [
       "      variable  importance\n",
       "14    failures    0.703117\n",
       "15   schoolsup    0.257250\n",
       "24    freetime    0.039633\n",
       "16      famsup    0.000000\n",
       "28      health    0.000000\n",
       "27        Walc    0.000000\n",
       "26        Dalc    0.000000\n",
       "25       goout    0.000000\n",
       "23      famrel    0.000000\n",
       "22    romantic    0.000000\n",
       "21    internet    0.000000\n",
       "20      higher    0.000000\n",
       "19     nursery    0.000000\n",
       "18  activities    0.000000\n",
       "17        paid    0.000000\n",
       "0       school    0.000000\n",
       "1          sex    0.000000\n",
       "13   studytime    0.000000\n",
       "12  traveltime    0.000000\n",
       "11    guardian    0.000000\n",
       "10      reason    0.000000\n",
       "9         Fjob    0.000000\n",
       "8         Mjob    0.000000\n",
       "7         Fedu    0.000000\n",
       "6         Medu    0.000000\n",
       "5      Pstatus    0.000000\n",
       "4      famsize    0.000000\n",
       "3      address    0.000000\n",
       "2          age    0.000000\n",
       "29    absences    0.000000\n",
       "30          G1         NaN\n",
       "31          G2         NaN"
      ]
     },
     "execution_count": 19,
     "metadata": {},
     "output_type": "execute_result"
    }
   ],
   "source": [
    "pd.concat((pd.DataFrame(df.iloc[:, 0:32].columns, columns = ['variable']), \n",
    "           pd.DataFrame(tree_reg.feature_importances_, columns = ['importance'])), \n",
    "          axis = 1).sort_values(by='importance', ascending = False)"
   ]
  },
  {
   "cell_type": "code",
   "execution_count": 20,
   "metadata": {},
   "outputs": [],
   "source": [
    "dfX_final = df_new[[\"failures\", \"schoolsup\", \"freetime\"]]\n",
    "dfy_final = df_new.G3\n",
    "X_final = dfX_final.values\n",
    "y_final = dfy_final.values"
   ]
  },
  {
   "cell_type": "code",
   "execution_count": 21,
   "metadata": {},
   "outputs": [],
   "source": [
    "# Splitting data into train and test data sets\n",
    "X_train,X_test,y_train,y_test=train_test_split(X_final, y_final, test_size=0.2, random_state=2)"
   ]
  },
  {
   "cell_type": "code",
   "execution_count": 22,
   "metadata": {},
   "outputs": [
    {
     "data": {
      "text/plain": [
       "DecisionTreeRegressor(criterion='mse', max_depth=2, max_features=None,\n",
       "           max_leaf_nodes=None, min_impurity_decrease=0.0,\n",
       "           min_impurity_split=None, min_samples_leaf=1,\n",
       "           min_samples_split=2, min_weight_fraction_leaf=0.0,\n",
       "           presort=False, random_state=2, splitter='best')"
      ]
     },
     "execution_count": 22,
     "metadata": {},
     "output_type": "execute_result"
    }
   ],
   "source": [
    "# Create Decision Tree Model\n",
    "tree_reg_final = tree.DecisionTreeRegressor(max_depth=2, random_state=2)\n",
    "tree_reg_final.fit(X_train, y_train)"
   ]
  },
  {
   "cell_type": "code",
   "execution_count": 23,
   "metadata": {},
   "outputs": [
    {
     "name": "stdout",
     "output_type": "stream",
     "text": [
      "the training mean squared error is:  1.5346497683803728\n"
     ]
    }
   ],
   "source": [
    "#training mse\n",
    "train_mse = mean_squared_error(tree_reg_final.predict(X_train), y_train)\n",
    "print('the training mean squared error is: ', train_mse)"
   ]
  },
  {
   "cell_type": "code",
   "execution_count": 24,
   "metadata": {},
   "outputs": [
    {
     "name": "stdout",
     "output_type": "stream",
     "text": [
      "the testing mean squared error is:  1.6070618654533675\n"
     ]
    }
   ],
   "source": [
    "#testing mse\n",
    "test_mse = mean_squared_error(tree_reg_final.predict(X_test), y_test)\n",
    "print('the testing mean squared error is: ',test_mse)"
   ]
  },
  {
   "cell_type": "code",
   "execution_count": 25,
   "metadata": {},
   "outputs": [
    {
     "name": "stdout",
     "output_type": "stream",
     "text": [
      "training R^2 value is:  0.15819895699702535\n",
      "testing R^2 value is:  0.09853738070335549\n"
     ]
    }
   ],
   "source": [
    "#the score function for regressor is calculating R Squared Value of the regression model\n",
    "# R Squared value rangs from 0 to 1 and the higher the better\n",
    "train_R2 = tree_reg_final.score(X_train, y_train)\n",
    "print('training R^2 value is: ', train_R2)\n",
    "\n",
    "test_R2 = tree_reg_final.score(X_test, y_test)\n",
    "print('testing R^2 value is: ', test_R2)"
   ]
  },
  {
   "cell_type": "code",
   "execution_count": 26,
   "metadata": {},
   "outputs": [
    {
     "name": "stdout",
     "output_type": "stream",
     "text": [
      "train_score:  [-1.54536289 -1.53282361 -1.56093155 -1.57314325 -1.53688034 -1.50099704\n",
      " -1.54696887 -1.57755497 -1.53707405 -1.50468982 -1.54667989 -1.55469279\n",
      " -1.56003807 -1.52413291 -1.52920341 -1.54498149 -1.51797284 -1.54933464\n",
      " -1.56287677 -1.53001079]\n",
      "test_score:  [-1.50362399 -1.76121506 -1.2256318  -0.98933403 -1.6593651  -2.3930897\n",
      " -1.47246283 -0.905326   -1.66451995 -2.38043287 -1.49388159 -1.32872927\n",
      " -1.23174663 -1.90855915 -1.80391393 -1.51592157 -2.04558779 -1.41871068\n",
      " -1.14539931 -1.82462674]\n"
     ]
    }
   ],
   "source": [
    "# Evaluate the Model using K-folds Cross validation\n",
    "results  = cross_validate(tree_reg_final, X_final, y_final.ravel(), scoring='neg_mean_squared_error', cv=20, return_train_score = True)\n",
    "print('train_score: ', results['train_score'])\n",
    "print('test_score: ', results['test_score'])"
   ]
  },
  {
   "cell_type": "code",
   "execution_count": 27,
   "metadata": {},
   "outputs": [
    {
     "name": "stdout",
     "output_type": "stream",
     "text": [
      "cross val training mean_squared_error is: 1.5418174997521348\n",
      "cross val testing mean_squared_error is: 1.583603898615764\n"
     ]
    }
   ],
   "source": [
    "print('cross val training mean_squared_error is:', sum(-results['train_score'])/len(results['train_score']))\n",
    "print('cross val testing mean_squared_error is:', sum(-results['test_score'])/len(results['test_score']))"
   ]
  },
  {
   "cell_type": "code",
   "execution_count": 28,
   "metadata": {},
   "outputs": [
    {
     "name": "stdout",
     "output_type": "stream",
     "text": [
      "-1.540764135976031\n",
      "{'criterion': 'mse', 'max_depth': 4, 'min_samples_leaf': 11, 'min_samples_split': 2}\n"
     ]
    },
    {
     "name": "stderr",
     "output_type": "stream",
     "text": [
      "C:\\Users\\Marcus\\AppData\\Roaming\\Python\\Python37\\site-packages\\sklearn\\model_selection\\_search.py:841: DeprecationWarning: The default of the `iid` parameter will change from True to False in version 0.22 and will be removed in 0.24. This will change numeric results when test-set sizes are unequal.\n",
      "  DeprecationWarning)\n"
     ]
    }
   ],
   "source": [
    "# Use GridSearch to find the best combination of model hyperparameters\n",
    "\n",
    "criteriaList = np.arange(2,21)\n",
    "\n",
    "param_grid = { \"criterion\" : [\"mse\", \"mae\"], \"min_samples_leaf\" : criteriaList, \"min_samples_split\" : criteriaList, 'max_depth' : criteriaList}\n",
    "\n",
    "gs = GridSearchCV(tree_reg_final,param_grid=param_grid, scoring=\"neg_mean_squared_error\",cv=20,n_jobs=-1)\n",
    "gs = gs.fit(X_train, y_train)\n",
    "\n",
    "print(gs.best_score_)\n",
    "print(gs.best_params_)"
   ]
  },
  {
   "cell_type": "code",
   "execution_count": 29,
   "metadata": {},
   "outputs": [
    {
     "data": {
      "text/plain": [
       "DecisionTreeRegressor(criterion='mse', max_depth=4, max_features=None,\n",
       "           max_leaf_nodes=None, min_impurity_decrease=0.0,\n",
       "           min_impurity_split=None, min_samples_leaf=11,\n",
       "           min_samples_split=2, min_weight_fraction_leaf=0.0,\n",
       "           presort=False, random_state=None, splitter='best')"
      ]
     },
     "execution_count": 29,
     "metadata": {},
     "output_type": "execute_result"
    }
   ],
   "source": [
    "# Create the final Decision Tree Regressor using the best hyperparameters\n",
    "tree_reg_final = tree.DecisionTreeRegressor(criterion = 'mse', max_depth = 4, min_samples_leaf = 11, min_samples_split = 2)\n",
    "tree_reg_final.fit(X_train,y_train)"
   ]
  },
  {
   "cell_type": "code",
   "execution_count": 31,
   "metadata": {},
   "outputs": [
    {
     "name": "stdout",
     "output_type": "stream",
     "text": [
      "The training mean squared error is:  1.4749847095383646\n",
      "The testing mean squared error is:  1.5690635376552415\n"
     ]
    }
   ],
   "source": [
    "#Evaluate the Model by calculating training mse and testing mse\n",
    "train_mse=mean_squared_error(tree_reg_final.predict(X_train),y_train)\n",
    "print(\"The training mean squared error is: \",train_mse)\n",
    "test_mse=mean_squared_error(tree_reg_final.predict(X_test),y_test)\n",
    "print(\"The testing mean squared error is: \",test_mse)"
   ]
  },
  {
   "cell_type": "code",
   "execution_count": 33,
   "metadata": {},
   "outputs": [
    {
     "name": "stdout",
     "output_type": "stream",
     "text": [
      "training R^2 value is:  0.19092701638808995\n",
      "testing R^2 value is:  0.11985209972080146\n"
     ]
    }
   ],
   "source": [
    "#the score function for regressor is calculating R Squared Value of the regression model\n",
    "# R Squared value rangs from 0 to 1 and the higher the better\n",
    "train_R2 = tree_reg_final.score(X_train, y_train)\n",
    "print('training R^2 value is: ', train_R2)\n",
    "\n",
    "test_R2 = tree_reg_final.score(X_test, y_test)\n",
    "print('testing R^2 value is: ', test_R2)"
   ]
  },
  {
   "cell_type": "code",
   "execution_count": null,
   "metadata": {},
   "outputs": [],
   "source": []
  },
  {
   "cell_type": "code",
   "execution_count": null,
   "metadata": {},
   "outputs": [],
   "source": []
  }
 ],
 "metadata": {
  "kernelspec": {
   "display_name": "Python 3",
   "language": "python",
   "name": "python3"
  },
  "language_info": {
   "codemirror_mode": {
    "name": "ipython",
    "version": 3
   },
   "file_extension": ".py",
   "mimetype": "text/x-python",
   "name": "python",
   "nbconvert_exporter": "python",
   "pygments_lexer": "ipython3",
   "version": "3.7.3"
  }
 },
 "nbformat": 4,
 "nbformat_minor": 2
}
